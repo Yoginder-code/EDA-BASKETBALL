{
 "cells": [
  {
   "cell_type": "code",
   "execution_count": 1,
   "metadata": {},
   "outputs": [],
   "source": [
    "import numpy as np\n",
    "import matplotlib as mpl\n",
    "import matplotlib.pyplot as plt\n",
    "import pandas as pd\n",
    "\n",
    "%matplotlib inline"
   ]
  },
  {
   "cell_type": "code",
   "execution_count": 2,
   "metadata": {
    "collapsed": true
   },
   "outputs": [],
   "source": [
    "# Load player information and season statistics\n",
    "player_info = pd.read_csv('resources/player-info.csv')\n",
    "season_stats = pd.read_csv('resources/season-stats.csv')"
   ]
  },
  {
   "cell_type": "markdown",
   "metadata": {},
   "source": [
    "We need to verify that we got the data."
   ]
  },
  {
   "cell_type": "code",
   "execution_count": 3,
   "metadata": {},
   "outputs": [
    {
     "name": "stdout",
     "output_type": "stream",
     "text": [
      "player_info shape: (3922, 8)\n",
      "season_stats shape: (24691, 53)\n"
     ]
    }
   ],
   "source": [
    "print(\"player_info shape:\", player_info.shape)\n",
    "print(\"season_stats shape:\", season_stats.shape)"
   ]
  },
  {
   "cell_type": "code",
   "execution_count": 4,
   "metadata": {},
   "outputs": [
    {
     "data": {
      "text/html": [
       "<div>\n",
       "<style>\n",
       "    .dataframe thead tr:only-child th {\n",
       "        text-align: right;\n",
       "    }\n",
       "\n",
       "    .dataframe thead th {\n",
       "        text-align: left;\n",
       "    }\n",
       "\n",
       "    .dataframe tbody tr th {\n",
       "        vertical-align: top;\n",
       "    }\n",
       "</style>\n",
       "<table border=\"1\" class=\"dataframe\">\n",
       "  <thead>\n",
       "    <tr style=\"text-align: right;\">\n",
       "      <th></th>\n",
       "      <th>Unnamed: 0</th>\n",
       "      <th>name</th>\n",
       "      <th>height</th>\n",
       "      <th>weight</th>\n",
       "      <th>college</th>\n",
       "      <th>birth_year</th>\n",
       "      <th>birth_city</th>\n",
       "      <th>birth_state</th>\n",
       "    </tr>\n",
       "  </thead>\n",
       "  <tbody>\n",
       "    <tr>\n",
       "      <th>0</th>\n",
       "      <td>0</td>\n",
       "      <td>Curly Armstrong</td>\n",
       "      <td>180.0</td>\n",
       "      <td>77.0</td>\n",
       "      <td>Indiana University</td>\n",
       "      <td>1918.0</td>\n",
       "      <td>NaN</td>\n",
       "      <td>NaN</td>\n",
       "    </tr>\n",
       "    <tr>\n",
       "      <th>1</th>\n",
       "      <td>1</td>\n",
       "      <td>Cliff Barker</td>\n",
       "      <td>188.0</td>\n",
       "      <td>83.0</td>\n",
       "      <td>University of Kentucky</td>\n",
       "      <td>1921.0</td>\n",
       "      <td>Yorktown</td>\n",
       "      <td>Indiana</td>\n",
       "    </tr>\n",
       "    <tr>\n",
       "      <th>2</th>\n",
       "      <td>2</td>\n",
       "      <td>Leo Barnhorst</td>\n",
       "      <td>193.0</td>\n",
       "      <td>86.0</td>\n",
       "      <td>University of Notre Dame</td>\n",
       "      <td>1924.0</td>\n",
       "      <td>NaN</td>\n",
       "      <td>NaN</td>\n",
       "    </tr>\n",
       "    <tr>\n",
       "      <th>3</th>\n",
       "      <td>3</td>\n",
       "      <td>Ed Bartels</td>\n",
       "      <td>196.0</td>\n",
       "      <td>88.0</td>\n",
       "      <td>North Carolina State University</td>\n",
       "      <td>1925.0</td>\n",
       "      <td>NaN</td>\n",
       "      <td>NaN</td>\n",
       "    </tr>\n",
       "    <tr>\n",
       "      <th>4</th>\n",
       "      <td>4</td>\n",
       "      <td>Ralph Beard</td>\n",
       "      <td>178.0</td>\n",
       "      <td>79.0</td>\n",
       "      <td>University of Kentucky</td>\n",
       "      <td>1927.0</td>\n",
       "      <td>Hardinsburg</td>\n",
       "      <td>Kentucky</td>\n",
       "    </tr>\n",
       "  </tbody>\n",
       "</table>\n",
       "</div>"
      ],
      "text/plain": [
       "   Unnamed: 0             name  height  weight  \\\n",
       "0           0  Curly Armstrong   180.0    77.0   \n",
       "1           1     Cliff Barker   188.0    83.0   \n",
       "2           2    Leo Barnhorst   193.0    86.0   \n",
       "3           3       Ed Bartels   196.0    88.0   \n",
       "4           4      Ralph Beard   178.0    79.0   \n",
       "\n",
       "                           college  birth_year   birth_city birth_state  \n",
       "0               Indiana University      1918.0          NaN         NaN  \n",
       "1           University of Kentucky      1921.0     Yorktown     Indiana  \n",
       "2         University of Notre Dame      1924.0          NaN         NaN  \n",
       "3  North Carolina State University      1925.0          NaN         NaN  \n",
       "4           University of Kentucky      1927.0  Hardinsburg    Kentucky  "
      ]
     },
     "execution_count": 4,
     "metadata": {},
     "output_type": "execute_result"
    }
   ],
   "source": [
    "player_info.head()"
   ]
  },
  {
   "cell_type": "code",
   "execution_count": 5,
   "metadata": {},
   "outputs": [
    {
     "data": {
      "text/html": [
       "<div>\n",
       "<style>\n",
       "    .dataframe thead tr:only-child th {\n",
       "        text-align: right;\n",
       "    }\n",
       "\n",
       "    .dataframe thead th {\n",
       "        text-align: left;\n",
       "    }\n",
       "\n",
       "    .dataframe tbody tr th {\n",
       "        vertical-align: top;\n",
       "    }\n",
       "</style>\n",
       "<table border=\"1\" class=\"dataframe\">\n",
       "  <thead>\n",
       "    <tr style=\"text-align: right;\">\n",
       "      <th></th>\n",
       "      <th>id</th>\n",
       "      <th>year</th>\n",
       "      <th>name</th>\n",
       "      <th>pos</th>\n",
       "      <th>age</th>\n",
       "      <th>tm</th>\n",
       "      <th>g</th>\n",
       "      <th>gs</th>\n",
       "      <th>mp</th>\n",
       "      <th>per</th>\n",
       "      <th>...</th>\n",
       "      <th>ft%</th>\n",
       "      <th>orb</th>\n",
       "      <th>drb</th>\n",
       "      <th>trb</th>\n",
       "      <th>ast</th>\n",
       "      <th>stl</th>\n",
       "      <th>blk</th>\n",
       "      <th>tov</th>\n",
       "      <th>pf</th>\n",
       "      <th>pts</th>\n",
       "    </tr>\n",
       "  </thead>\n",
       "  <tbody>\n",
       "    <tr>\n",
       "      <th>0</th>\n",
       "      <td>0</td>\n",
       "      <td>1950.0</td>\n",
       "      <td>Curly Armstrong</td>\n",
       "      <td>G-F</td>\n",
       "      <td>31.0</td>\n",
       "      <td>FTW</td>\n",
       "      <td>63.0</td>\n",
       "      <td>NaN</td>\n",
       "      <td>NaN</td>\n",
       "      <td>NaN</td>\n",
       "      <td>...</td>\n",
       "      <td>0.705</td>\n",
       "      <td>NaN</td>\n",
       "      <td>NaN</td>\n",
       "      <td>NaN</td>\n",
       "      <td>176.0</td>\n",
       "      <td>NaN</td>\n",
       "      <td>NaN</td>\n",
       "      <td>NaN</td>\n",
       "      <td>217.0</td>\n",
       "      <td>458.0</td>\n",
       "    </tr>\n",
       "    <tr>\n",
       "      <th>1</th>\n",
       "      <td>1</td>\n",
       "      <td>1950.0</td>\n",
       "      <td>Cliff Barker</td>\n",
       "      <td>SG</td>\n",
       "      <td>29.0</td>\n",
       "      <td>INO</td>\n",
       "      <td>49.0</td>\n",
       "      <td>NaN</td>\n",
       "      <td>NaN</td>\n",
       "      <td>NaN</td>\n",
       "      <td>...</td>\n",
       "      <td>0.708</td>\n",
       "      <td>NaN</td>\n",
       "      <td>NaN</td>\n",
       "      <td>NaN</td>\n",
       "      <td>109.0</td>\n",
       "      <td>NaN</td>\n",
       "      <td>NaN</td>\n",
       "      <td>NaN</td>\n",
       "      <td>99.0</td>\n",
       "      <td>279.0</td>\n",
       "    </tr>\n",
       "    <tr>\n",
       "      <th>2</th>\n",
       "      <td>2</td>\n",
       "      <td>1950.0</td>\n",
       "      <td>Leo Barnhorst</td>\n",
       "      <td>SF</td>\n",
       "      <td>25.0</td>\n",
       "      <td>CHS</td>\n",
       "      <td>67.0</td>\n",
       "      <td>NaN</td>\n",
       "      <td>NaN</td>\n",
       "      <td>NaN</td>\n",
       "      <td>...</td>\n",
       "      <td>0.698</td>\n",
       "      <td>NaN</td>\n",
       "      <td>NaN</td>\n",
       "      <td>NaN</td>\n",
       "      <td>140.0</td>\n",
       "      <td>NaN</td>\n",
       "      <td>NaN</td>\n",
       "      <td>NaN</td>\n",
       "      <td>192.0</td>\n",
       "      <td>438.0</td>\n",
       "    </tr>\n",
       "    <tr>\n",
       "      <th>3</th>\n",
       "      <td>3</td>\n",
       "      <td>1950.0</td>\n",
       "      <td>Ed Bartels</td>\n",
       "      <td>F</td>\n",
       "      <td>24.0</td>\n",
       "      <td>TOT</td>\n",
       "      <td>15.0</td>\n",
       "      <td>NaN</td>\n",
       "      <td>NaN</td>\n",
       "      <td>NaN</td>\n",
       "      <td>...</td>\n",
       "      <td>0.559</td>\n",
       "      <td>NaN</td>\n",
       "      <td>NaN</td>\n",
       "      <td>NaN</td>\n",
       "      <td>20.0</td>\n",
       "      <td>NaN</td>\n",
       "      <td>NaN</td>\n",
       "      <td>NaN</td>\n",
       "      <td>29.0</td>\n",
       "      <td>63.0</td>\n",
       "    </tr>\n",
       "    <tr>\n",
       "      <th>4</th>\n",
       "      <td>4</td>\n",
       "      <td>1950.0</td>\n",
       "      <td>Ed Bartels</td>\n",
       "      <td>F</td>\n",
       "      <td>24.0</td>\n",
       "      <td>DNN</td>\n",
       "      <td>13.0</td>\n",
       "      <td>NaN</td>\n",
       "      <td>NaN</td>\n",
       "      <td>NaN</td>\n",
       "      <td>...</td>\n",
       "      <td>0.548</td>\n",
       "      <td>NaN</td>\n",
       "      <td>NaN</td>\n",
       "      <td>NaN</td>\n",
       "      <td>20.0</td>\n",
       "      <td>NaN</td>\n",
       "      <td>NaN</td>\n",
       "      <td>NaN</td>\n",
       "      <td>27.0</td>\n",
       "      <td>59.0</td>\n",
       "    </tr>\n",
       "  </tbody>\n",
       "</table>\n",
       "<p>5 rows × 53 columns</p>\n",
       "</div>"
      ],
      "text/plain": [
       "   id    year             name  pos   age   tm     g  gs  mp  per  ...    \\\n",
       "0   0  1950.0  Curly Armstrong  G-F  31.0  FTW  63.0 NaN NaN  NaN  ...     \n",
       "1   1  1950.0     Cliff Barker   SG  29.0  INO  49.0 NaN NaN  NaN  ...     \n",
       "2   2  1950.0    Leo Barnhorst   SF  25.0  CHS  67.0 NaN NaN  NaN  ...     \n",
       "3   3  1950.0       Ed Bartels    F  24.0  TOT  15.0 NaN NaN  NaN  ...     \n",
       "4   4  1950.0       Ed Bartels    F  24.0  DNN  13.0 NaN NaN  NaN  ...     \n",
       "\n",
       "     ft%  orb  drb  trb    ast  stl  blk  tov     pf    pts  \n",
       "0  0.705  NaN  NaN  NaN  176.0  NaN  NaN  NaN  217.0  458.0  \n",
       "1  0.708  NaN  NaN  NaN  109.0  NaN  NaN  NaN   99.0  279.0  \n",
       "2  0.698  NaN  NaN  NaN  140.0  NaN  NaN  NaN  192.0  438.0  \n",
       "3  0.559  NaN  NaN  NaN   20.0  NaN  NaN  NaN   29.0   63.0  \n",
       "4  0.548  NaN  NaN  NaN   20.0  NaN  NaN  NaN   27.0   59.0  \n",
       "\n",
       "[5 rows x 53 columns]"
      ]
     },
     "execution_count": 5,
     "metadata": {},
     "output_type": "execute_result"
    }
   ],
   "source": [
    "season_stats.head()"
   ]
  },
  {
   "cell_type": "markdown",
   "metadata": {},
   "source": [
    "It looks like some cleaning needs to be done before we can begin analyzing.\n",
    "\n",
    "## Data Cleaning\n",
    "\n",
    "Cleaning the data will involve:\n",
    "\n",
    "1. Re-labeling the CSV files\n",
    "2. Removing the \"Unnamed: 0\" column from player info\n",
    "3. Re-indexing the player info\n",
    "4. Joining the data sets\n",
    "5. Trim observations taken under antiquated rules\n",
    "6. Trimming statistics that we are uninterested in\n",
    "7. Drop null observations\n",
    "8. Parallelize player names\n",
    "9. Periodic Conversion\n",
    "\n",
    "### 1. Re-label the CSV files\n",
    "\n",
    "We re-labeled the first column of `season-stats.csv` to `id`, to reflect its purpose. We do not need to re-label the first, unnamed column of `player-info.csv`, as the players' names serve as unique identifiers themselves; we will be removing the unnamed column promptly.\n",
    "\n",
    "### 2. Remove the \"Unnamed: 0\" column"
   ]
  },
  {
   "cell_type": "code",
   "execution_count": 6,
   "metadata": {
    "collapsed": true
   },
   "outputs": [],
   "source": [
    "# Drop the unnamed first column.\n",
    "player_info.drop('Unnamed: 0', axis=1, inplace=True)"
   ]
  },
  {
   "cell_type": "markdown",
   "metadata": {},
   "source": [
    "### 3. Re-index player info"
   ]
  },
  {
   "cell_type": "code",
   "execution_count": 7,
   "metadata": {
    "collapsed": true
   },
   "outputs": [],
   "source": [
    "# Set the dataframe index to player names.\n",
    "player_info.set_index('name', inplace=True)"
   ]
  },
  {
   "cell_type": "markdown",
   "metadata": {
    "collapsed": true
   },
   "source": [
    "### 4. Join the sets"
   ]
  },
  {
   "cell_type": "code",
   "execution_count": 8,
   "metadata": {
    "scrolled": true
   },
   "outputs": [
    {
     "data": {
      "text/html": [
       "<div>\n",
       "<style>\n",
       "    .dataframe thead tr:only-child th {\n",
       "        text-align: right;\n",
       "    }\n",
       "\n",
       "    .dataframe thead th {\n",
       "        text-align: left;\n",
       "    }\n",
       "\n",
       "    .dataframe tbody tr th {\n",
       "        vertical-align: top;\n",
       "    }\n",
       "</style>\n",
       "<table border=\"1\" class=\"dataframe\">\n",
       "  <thead>\n",
       "    <tr style=\"text-align: right;\">\n",
       "      <th></th>\n",
       "      <th>id</th>\n",
       "      <th>year</th>\n",
       "      <th>name</th>\n",
       "      <th>pos</th>\n",
       "      <th>age</th>\n",
       "      <th>tm</th>\n",
       "      <th>g</th>\n",
       "      <th>gs</th>\n",
       "      <th>mp</th>\n",
       "      <th>per</th>\n",
       "      <th>...</th>\n",
       "      <th>blk</th>\n",
       "      <th>tov</th>\n",
       "      <th>pf</th>\n",
       "      <th>pts</th>\n",
       "      <th>height</th>\n",
       "      <th>weight</th>\n",
       "      <th>college</th>\n",
       "      <th>birth_year</th>\n",
       "      <th>birth_city</th>\n",
       "      <th>birth_state</th>\n",
       "    </tr>\n",
       "  </thead>\n",
       "  <tbody>\n",
       "    <tr>\n",
       "      <th>0</th>\n",
       "      <td>0</td>\n",
       "      <td>1950.0</td>\n",
       "      <td>Curly Armstrong</td>\n",
       "      <td>G-F</td>\n",
       "      <td>31.0</td>\n",
       "      <td>FTW</td>\n",
       "      <td>63.0</td>\n",
       "      <td>NaN</td>\n",
       "      <td>NaN</td>\n",
       "      <td>NaN</td>\n",
       "      <td>...</td>\n",
       "      <td>NaN</td>\n",
       "      <td>NaN</td>\n",
       "      <td>217.0</td>\n",
       "      <td>458.0</td>\n",
       "      <td>180.0</td>\n",
       "      <td>77.0</td>\n",
       "      <td>Indiana University</td>\n",
       "      <td>1918.0</td>\n",
       "      <td>NaN</td>\n",
       "      <td>NaN</td>\n",
       "    </tr>\n",
       "    <tr>\n",
       "      <th>1</th>\n",
       "      <td>1</td>\n",
       "      <td>1950.0</td>\n",
       "      <td>Cliff Barker</td>\n",
       "      <td>SG</td>\n",
       "      <td>29.0</td>\n",
       "      <td>INO</td>\n",
       "      <td>49.0</td>\n",
       "      <td>NaN</td>\n",
       "      <td>NaN</td>\n",
       "      <td>NaN</td>\n",
       "      <td>...</td>\n",
       "      <td>NaN</td>\n",
       "      <td>NaN</td>\n",
       "      <td>99.0</td>\n",
       "      <td>279.0</td>\n",
       "      <td>188.0</td>\n",
       "      <td>83.0</td>\n",
       "      <td>University of Kentucky</td>\n",
       "      <td>1921.0</td>\n",
       "      <td>Yorktown</td>\n",
       "      <td>Indiana</td>\n",
       "    </tr>\n",
       "    <tr>\n",
       "      <th>2</th>\n",
       "      <td>2</td>\n",
       "      <td>1950.0</td>\n",
       "      <td>Leo Barnhorst</td>\n",
       "      <td>SF</td>\n",
       "      <td>25.0</td>\n",
       "      <td>CHS</td>\n",
       "      <td>67.0</td>\n",
       "      <td>NaN</td>\n",
       "      <td>NaN</td>\n",
       "      <td>NaN</td>\n",
       "      <td>...</td>\n",
       "      <td>NaN</td>\n",
       "      <td>NaN</td>\n",
       "      <td>192.0</td>\n",
       "      <td>438.0</td>\n",
       "      <td>193.0</td>\n",
       "      <td>86.0</td>\n",
       "      <td>University of Notre Dame</td>\n",
       "      <td>1924.0</td>\n",
       "      <td>NaN</td>\n",
       "      <td>NaN</td>\n",
       "    </tr>\n",
       "  </tbody>\n",
       "</table>\n",
       "<p>3 rows × 59 columns</p>\n",
       "</div>"
      ],
      "text/plain": [
       "   id    year             name  pos   age   tm     g  gs  mp  per  \\\n",
       "0   0  1950.0  Curly Armstrong  G-F  31.0  FTW  63.0 NaN NaN  NaN   \n",
       "1   1  1950.0     Cliff Barker   SG  29.0  INO  49.0 NaN NaN  NaN   \n",
       "2   2  1950.0    Leo Barnhorst   SF  25.0  CHS  67.0 NaN NaN  NaN   \n",
       "\n",
       "      ...       blk  tov     pf    pts  height  weight  \\\n",
       "0     ...       NaN  NaN  217.0  458.0   180.0    77.0   \n",
       "1     ...       NaN  NaN   99.0  279.0   188.0    83.0   \n",
       "2     ...       NaN  NaN  192.0  438.0   193.0    86.0   \n",
       "\n",
       "                    college  birth_year  birth_city  birth_state  \n",
       "0        Indiana University      1918.0         NaN          NaN  \n",
       "1    University of Kentucky      1921.0    Yorktown      Indiana  \n",
       "2  University of Notre Dame      1924.0         NaN          NaN  \n",
       "\n",
       "[3 rows x 59 columns]"
      ]
     },
     "execution_count": 8,
     "metadata": {},
     "output_type": "execute_result"
    }
   ],
   "source": [
    "# Join player info and season stats on the players' names.\n",
    "complete_stats = season_stats.join(player_info, on=\"name\")\n",
    "complete_stats.head(3)"
   ]
  },
  {
   "cell_type": "markdown",
   "metadata": {},
   "source": [
    "### 5. Trim observations taken under antiquated rules\n",
    "\n",
    "We will trim all observations before 1990 to eliminate the difference in statistics caused by rule changes; the game used to allow for more possessions of the ball, thereby allowing for more points, rebounds, assists, etc.\n",
    "\n",
    "1990 has been chosen at our discretion; there have been many small rule changes, but this date encompasses most of the major ones."
   ]
  },
  {
   "cell_type": "code",
   "execution_count": 9,
   "metadata": {},
   "outputs": [
    {
     "data": {
      "text/html": [
       "<div>\n",
       "<style>\n",
       "    .dataframe thead tr:only-child th {\n",
       "        text-align: right;\n",
       "    }\n",
       "\n",
       "    .dataframe thead th {\n",
       "        text-align: left;\n",
       "    }\n",
       "\n",
       "    .dataframe tbody tr th {\n",
       "        vertical-align: top;\n",
       "    }\n",
       "</style>\n",
       "<table border=\"1\" class=\"dataframe\">\n",
       "  <thead>\n",
       "    <tr style=\"text-align: right;\">\n",
       "      <th></th>\n",
       "      <th>id</th>\n",
       "      <th>year</th>\n",
       "      <th>name</th>\n",
       "      <th>pos</th>\n",
       "      <th>age</th>\n",
       "      <th>tm</th>\n",
       "      <th>g</th>\n",
       "      <th>gs</th>\n",
       "      <th>mp</th>\n",
       "      <th>per</th>\n",
       "      <th>...</th>\n",
       "      <th>blk</th>\n",
       "      <th>tov</th>\n",
       "      <th>pf</th>\n",
       "      <th>pts</th>\n",
       "      <th>height</th>\n",
       "      <th>weight</th>\n",
       "      <th>college</th>\n",
       "      <th>birth_year</th>\n",
       "      <th>birth_city</th>\n",
       "      <th>birth_state</th>\n",
       "    </tr>\n",
       "  </thead>\n",
       "  <tbody>\n",
       "    <tr>\n",
       "      <th>9547</th>\n",
       "      <td>9547</td>\n",
       "      <td>1990.0</td>\n",
       "      <td>Mark Acres</td>\n",
       "      <td>C</td>\n",
       "      <td>27.0</td>\n",
       "      <td>ORL</td>\n",
       "      <td>80.0</td>\n",
       "      <td>50.0</td>\n",
       "      <td>1691.0</td>\n",
       "      <td>8.3</td>\n",
       "      <td>...</td>\n",
       "      <td>25.0</td>\n",
       "      <td>70.0</td>\n",
       "      <td>248.0</td>\n",
       "      <td>362.0</td>\n",
       "      <td>211.0</td>\n",
       "      <td>99.0</td>\n",
       "      <td>Oral Roberts University</td>\n",
       "      <td>1962.0</td>\n",
       "      <td>Inglewood</td>\n",
       "      <td>California</td>\n",
       "    </tr>\n",
       "    <tr>\n",
       "      <th>9548</th>\n",
       "      <td>9548</td>\n",
       "      <td>1990.0</td>\n",
       "      <td>Michael Adams</td>\n",
       "      <td>PG</td>\n",
       "      <td>27.0</td>\n",
       "      <td>DEN</td>\n",
       "      <td>79.0</td>\n",
       "      <td>74.0</td>\n",
       "      <td>2690.0</td>\n",
       "      <td>15.4</td>\n",
       "      <td>...</td>\n",
       "      <td>3.0</td>\n",
       "      <td>141.0</td>\n",
       "      <td>133.0</td>\n",
       "      <td>1221.0</td>\n",
       "      <td>178.0</td>\n",
       "      <td>73.0</td>\n",
       "      <td>Boston College</td>\n",
       "      <td>1963.0</td>\n",
       "      <td>Hartford</td>\n",
       "      <td>Connecticut</td>\n",
       "    </tr>\n",
       "    <tr>\n",
       "      <th>9549</th>\n",
       "      <td>9549</td>\n",
       "      <td>1990.0</td>\n",
       "      <td>Mark Aguirre</td>\n",
       "      <td>SF</td>\n",
       "      <td>30.0</td>\n",
       "      <td>DET</td>\n",
       "      <td>78.0</td>\n",
       "      <td>40.0</td>\n",
       "      <td>2005.0</td>\n",
       "      <td>15.8</td>\n",
       "      <td>...</td>\n",
       "      <td>19.0</td>\n",
       "      <td>121.0</td>\n",
       "      <td>201.0</td>\n",
       "      <td>1099.0</td>\n",
       "      <td>198.0</td>\n",
       "      <td>105.0</td>\n",
       "      <td>DePaul University</td>\n",
       "      <td>1959.0</td>\n",
       "      <td>Chicago</td>\n",
       "      <td>Illinois</td>\n",
       "    </tr>\n",
       "    <tr>\n",
       "      <th>9550</th>\n",
       "      <td>9550</td>\n",
       "      <td>1990.0</td>\n",
       "      <td>Danny Ainge</td>\n",
       "      <td>PG</td>\n",
       "      <td>30.0</td>\n",
       "      <td>SAC</td>\n",
       "      <td>75.0</td>\n",
       "      <td>68.0</td>\n",
       "      <td>2727.0</td>\n",
       "      <td>16.1</td>\n",
       "      <td>...</td>\n",
       "      <td>18.0</td>\n",
       "      <td>185.0</td>\n",
       "      <td>238.0</td>\n",
       "      <td>1342.0</td>\n",
       "      <td>193.0</td>\n",
       "      <td>79.0</td>\n",
       "      <td>Brigham Young University</td>\n",
       "      <td>1959.0</td>\n",
       "      <td>Eugene</td>\n",
       "      <td>Oregon</td>\n",
       "    </tr>\n",
       "    <tr>\n",
       "      <th>9551</th>\n",
       "      <td>9551</td>\n",
       "      <td>1990.0</td>\n",
       "      <td>Mark Alarie</td>\n",
       "      <td>PF</td>\n",
       "      <td>26.0</td>\n",
       "      <td>WSB</td>\n",
       "      <td>82.0</td>\n",
       "      <td>10.0</td>\n",
       "      <td>1893.0</td>\n",
       "      <td>14.1</td>\n",
       "      <td>...</td>\n",
       "      <td>39.0</td>\n",
       "      <td>101.0</td>\n",
       "      <td>219.0</td>\n",
       "      <td>860.0</td>\n",
       "      <td>203.0</td>\n",
       "      <td>98.0</td>\n",
       "      <td>Duke University</td>\n",
       "      <td>1963.0</td>\n",
       "      <td>Phoenix</td>\n",
       "      <td>Arizona</td>\n",
       "    </tr>\n",
       "  </tbody>\n",
       "</table>\n",
       "<p>5 rows × 59 columns</p>\n",
       "</div>"
      ],
      "text/plain": [
       "        id    year           name pos   age   tm     g    gs      mp   per  \\\n",
       "9547  9547  1990.0     Mark Acres   C  27.0  ORL  80.0  50.0  1691.0   8.3   \n",
       "9548  9548  1990.0  Michael Adams  PG  27.0  DEN  79.0  74.0  2690.0  15.4   \n",
       "9549  9549  1990.0   Mark Aguirre  SF  30.0  DET  78.0  40.0  2005.0  15.8   \n",
       "9550  9550  1990.0    Danny Ainge  PG  30.0  SAC  75.0  68.0  2727.0  16.1   \n",
       "9551  9551  1990.0    Mark Alarie  PF  26.0  WSB  82.0  10.0  1893.0  14.1   \n",
       "\n",
       "         ...        blk    tov     pf     pts  height  weight  \\\n",
       "9547     ...       25.0   70.0  248.0   362.0   211.0    99.0   \n",
       "9548     ...        3.0  141.0  133.0  1221.0   178.0    73.0   \n",
       "9549     ...       19.0  121.0  201.0  1099.0   198.0   105.0   \n",
       "9550     ...       18.0  185.0  238.0  1342.0   193.0    79.0   \n",
       "9551     ...       39.0  101.0  219.0   860.0   203.0    98.0   \n",
       "\n",
       "                       college  birth_year  birth_city  birth_state  \n",
       "9547   Oral Roberts University      1962.0   Inglewood   California  \n",
       "9548            Boston College      1963.0    Hartford  Connecticut  \n",
       "9549         DePaul University      1959.0     Chicago     Illinois  \n",
       "9550  Brigham Young University      1959.0      Eugene       Oregon  \n",
       "9551           Duke University      1963.0     Phoenix      Arizona  \n",
       "\n",
       "[5 rows x 59 columns]"
      ]
     },
     "execution_count": 9,
     "metadata": {},
     "output_type": "execute_result"
    }
   ],
   "source": [
    "trimmed_stats = complete_stats[complete_stats.year >= 1990]\n",
    "trimmed_stats.head()"
   ]
  },
  {
   "cell_type": "markdown",
   "metadata": {},
   "source": [
    "### 6. Trim uninteresting statistics\n",
    "\n",
    "Instead of trimming the uninteresting statistics, we opt to *select* the ones we are interested in. We want less than half of the total attributes, so this way saves us some work.\n",
    "\n",
    "There will be some additional trims made because some attributes can be derived from others, such as the percentages of shots made being derived from shots made and shots attempted."
   ]
  },
  {
   "cell_type": "code",
   "execution_count": 10,
   "metadata": {
    "scrolled": true
   },
   "outputs": [
    {
     "data": {
      "text/html": [
       "<div>\n",
       "<style>\n",
       "    .dataframe thead tr:only-child th {\n",
       "        text-align: right;\n",
       "    }\n",
       "\n",
       "    .dataframe thead th {\n",
       "        text-align: left;\n",
       "    }\n",
       "\n",
       "    .dataframe tbody tr th {\n",
       "        vertical-align: top;\n",
       "    }\n",
       "</style>\n",
       "<table border=\"1\" class=\"dataframe\">\n",
       "  <thead>\n",
       "    <tr style=\"text-align: right;\">\n",
       "      <th></th>\n",
       "      <th>id</th>\n",
       "      <th>year</th>\n",
       "      <th>name</th>\n",
       "      <th>age</th>\n",
       "      <th>mp</th>\n",
       "      <th>fg</th>\n",
       "      <th>fga</th>\n",
       "      <th>3p</th>\n",
       "      <th>3pa</th>\n",
       "      <th>orb</th>\n",
       "      <th>drb</th>\n",
       "      <th>ast</th>\n",
       "      <th>stl</th>\n",
       "      <th>blk</th>\n",
       "      <th>pts</th>\n",
       "      <th>height</th>\n",
       "      <th>weight</th>\n",
       "    </tr>\n",
       "  </thead>\n",
       "  <tbody>\n",
       "    <tr>\n",
       "      <th>9547</th>\n",
       "      <td>9547</td>\n",
       "      <td>1990.0</td>\n",
       "      <td>Mark Acres</td>\n",
       "      <td>27.0</td>\n",
       "      <td>1691.0</td>\n",
       "      <td>138.0</td>\n",
       "      <td>285.0</td>\n",
       "      <td>3.0</td>\n",
       "      <td>4.0</td>\n",
       "      <td>154.0</td>\n",
       "      <td>277.0</td>\n",
       "      <td>67.0</td>\n",
       "      <td>36.0</td>\n",
       "      <td>25.0</td>\n",
       "      <td>362.0</td>\n",
       "      <td>211.0</td>\n",
       "      <td>99.0</td>\n",
       "    </tr>\n",
       "    <tr>\n",
       "      <th>9548</th>\n",
       "      <td>9548</td>\n",
       "      <td>1990.0</td>\n",
       "      <td>Michael Adams</td>\n",
       "      <td>27.0</td>\n",
       "      <td>2690.0</td>\n",
       "      <td>398.0</td>\n",
       "      <td>989.0</td>\n",
       "      <td>158.0</td>\n",
       "      <td>432.0</td>\n",
       "      <td>49.0</td>\n",
       "      <td>176.0</td>\n",
       "      <td>495.0</td>\n",
       "      <td>121.0</td>\n",
       "      <td>3.0</td>\n",
       "      <td>1221.0</td>\n",
       "      <td>178.0</td>\n",
       "      <td>73.0</td>\n",
       "    </tr>\n",
       "    <tr>\n",
       "      <th>9549</th>\n",
       "      <td>9549</td>\n",
       "      <td>1990.0</td>\n",
       "      <td>Mark Aguirre</td>\n",
       "      <td>30.0</td>\n",
       "      <td>2005.0</td>\n",
       "      <td>438.0</td>\n",
       "      <td>898.0</td>\n",
       "      <td>31.0</td>\n",
       "      <td>93.0</td>\n",
       "      <td>117.0</td>\n",
       "      <td>188.0</td>\n",
       "      <td>145.0</td>\n",
       "      <td>34.0</td>\n",
       "      <td>19.0</td>\n",
       "      <td>1099.0</td>\n",
       "      <td>198.0</td>\n",
       "      <td>105.0</td>\n",
       "    </tr>\n",
       "    <tr>\n",
       "      <th>9550</th>\n",
       "      <td>9550</td>\n",
       "      <td>1990.0</td>\n",
       "      <td>Danny Ainge</td>\n",
       "      <td>30.0</td>\n",
       "      <td>2727.0</td>\n",
       "      <td>506.0</td>\n",
       "      <td>1154.0</td>\n",
       "      <td>108.0</td>\n",
       "      <td>289.0</td>\n",
       "      <td>69.0</td>\n",
       "      <td>257.0</td>\n",
       "      <td>453.0</td>\n",
       "      <td>113.0</td>\n",
       "      <td>18.0</td>\n",
       "      <td>1342.0</td>\n",
       "      <td>193.0</td>\n",
       "      <td>79.0</td>\n",
       "    </tr>\n",
       "    <tr>\n",
       "      <th>9551</th>\n",
       "      <td>9551</td>\n",
       "      <td>1990.0</td>\n",
       "      <td>Mark Alarie</td>\n",
       "      <td>26.0</td>\n",
       "      <td>1893.0</td>\n",
       "      <td>371.0</td>\n",
       "      <td>785.0</td>\n",
       "      <td>10.0</td>\n",
       "      <td>49.0</td>\n",
       "      <td>151.0</td>\n",
       "      <td>223.0</td>\n",
       "      <td>142.0</td>\n",
       "      <td>60.0</td>\n",
       "      <td>39.0</td>\n",
       "      <td>860.0</td>\n",
       "      <td>203.0</td>\n",
       "      <td>98.0</td>\n",
       "    </tr>\n",
       "  </tbody>\n",
       "</table>\n",
       "</div>"
      ],
      "text/plain": [
       "        id    year           name   age      mp     fg     fga     3p    3pa  \\\n",
       "9547  9547  1990.0     Mark Acres  27.0  1691.0  138.0   285.0    3.0    4.0   \n",
       "9548  9548  1990.0  Michael Adams  27.0  2690.0  398.0   989.0  158.0  432.0   \n",
       "9549  9549  1990.0   Mark Aguirre  30.0  2005.0  438.0   898.0   31.0   93.0   \n",
       "9550  9550  1990.0    Danny Ainge  30.0  2727.0  506.0  1154.0  108.0  289.0   \n",
       "9551  9551  1990.0    Mark Alarie  26.0  1893.0  371.0   785.0   10.0   49.0   \n",
       "\n",
       "        orb    drb    ast    stl   blk     pts  height  weight  \n",
       "9547  154.0  277.0   67.0   36.0  25.0   362.0   211.0    99.0  \n",
       "9548   49.0  176.0  495.0  121.0   3.0  1221.0   178.0    73.0  \n",
       "9549  117.0  188.0  145.0   34.0  19.0  1099.0   198.0   105.0  \n",
       "9550   69.0  257.0  453.0  113.0  18.0  1342.0   193.0    79.0  \n",
       "9551  151.0  223.0  142.0   60.0  39.0   860.0   203.0    98.0  "
      ]
     },
     "execution_count": 10,
     "metadata": {},
     "output_type": "execute_result"
    }
   ],
   "source": [
    "trimmed_stats = trimmed_stats[[\n",
    "    'id', \n",
    "    'year',\n",
    "    'name',\n",
    "    'age',\n",
    "    'mp',\n",
    "    'fg',\n",
    "    'fga',\n",
    "    '3p',\n",
    "    '3pa',\n",
    "    'orb',\n",
    "    'drb',\n",
    "    'ast',\n",
    "    'stl',\n",
    "    'blk',\n",
    "    'pts',\n",
    "    'height',\n",
    "    'weight'\n",
    "]]\n",
    "trimmed_stats.head()"
   ]
  },
  {
   "cell_type": "markdown",
   "metadata": {},
   "source": [
    "### 7. Drop null observations"
   ]
  },
  {
   "cell_type": "code",
   "execution_count": 11,
   "metadata": {},
   "outputs": [
    {
     "data": {
      "text/plain": [
       "id        0\n",
       "year      0\n",
       "name      0\n",
       "age       0\n",
       "mp        0\n",
       "fg        0\n",
       "fga       0\n",
       "3p        0\n",
       "3pa       0\n",
       "orb       0\n",
       "drb       0\n",
       "ast       0\n",
       "stl       0\n",
       "blk       0\n",
       "pts       0\n",
       "height    0\n",
       "weight    0\n",
       "dtype: int64"
      ]
     },
     "execution_count": 11,
     "metadata": {},
     "output_type": "execute_result"
    }
   ],
   "source": [
    "# Get a count for null observations\n",
    "trimmed_stats.isnull().sum()"
   ]
  },
  {
   "cell_type": "code",
   "execution_count": 12,
   "metadata": {
    "collapsed": true
   },
   "outputs": [],
   "source": [
    "trimmed_stats = trimmed_stats.dropna(how='any')"
   ]
  },
  {
   "cell_type": "code",
   "execution_count": 13,
   "metadata": {
    "scrolled": true
   },
   "outputs": [
    {
     "data": {
      "text/plain": [
       "id        0\n",
       "year      0\n",
       "name      0\n",
       "age       0\n",
       "mp        0\n",
       "fg        0\n",
       "fga       0\n",
       "3p        0\n",
       "3pa       0\n",
       "orb       0\n",
       "drb       0\n",
       "ast       0\n",
       "stl       0\n",
       "blk       0\n",
       "pts       0\n",
       "height    0\n",
       "weight    0\n",
       "dtype: int64"
      ]
     },
     "execution_count": 13,
     "metadata": {},
     "output_type": "execute_result"
    }
   ],
   "source": [
    "trimmed_stats.isnull().sum()"
   ]
  },
  {
   "cell_type": "markdown",
   "metadata": {},
   "source": [
    "### 8. Parallelize player names\n",
    "\n",
    "We want to move the player names into their own parallel DataFrame so that their qualitative nature does not interfere with our analyses."
   ]
  },
  {
   "cell_type": "code",
   "execution_count": 14,
   "metadata": {
    "scrolled": true
   },
   "outputs": [
    {
     "data": {
      "text/html": [
       "<div>\n",
       "<style>\n",
       "    .dataframe thead tr:only-child th {\n",
       "        text-align: right;\n",
       "    }\n",
       "\n",
       "    .dataframe thead th {\n",
       "        text-align: left;\n",
       "    }\n",
       "\n",
       "    .dataframe tbody tr th {\n",
       "        vertical-align: top;\n",
       "    }\n",
       "</style>\n",
       "<table border=\"1\" class=\"dataframe\">\n",
       "  <thead>\n",
       "    <tr style=\"text-align: right;\">\n",
       "      <th></th>\n",
       "      <th>id</th>\n",
       "      <th>year</th>\n",
       "      <th>age</th>\n",
       "      <th>mp</th>\n",
       "      <th>fg</th>\n",
       "      <th>fga</th>\n",
       "      <th>3p</th>\n",
       "      <th>3pa</th>\n",
       "      <th>orb</th>\n",
       "      <th>drb</th>\n",
       "      <th>ast</th>\n",
       "      <th>stl</th>\n",
       "      <th>blk</th>\n",
       "      <th>pts</th>\n",
       "      <th>height</th>\n",
       "      <th>weight</th>\n",
       "    </tr>\n",
       "  </thead>\n",
       "  <tbody>\n",
       "    <tr>\n",
       "      <th>9547</th>\n",
       "      <td>9547</td>\n",
       "      <td>1990.0</td>\n",
       "      <td>27.0</td>\n",
       "      <td>1691.0</td>\n",
       "      <td>138.0</td>\n",
       "      <td>285.0</td>\n",
       "      <td>3.0</td>\n",
       "      <td>4.0</td>\n",
       "      <td>154.0</td>\n",
       "      <td>277.0</td>\n",
       "      <td>67.0</td>\n",
       "      <td>36.0</td>\n",
       "      <td>25.0</td>\n",
       "      <td>362.0</td>\n",
       "      <td>211.0</td>\n",
       "      <td>99.0</td>\n",
       "    </tr>\n",
       "    <tr>\n",
       "      <th>9548</th>\n",
       "      <td>9548</td>\n",
       "      <td>1990.0</td>\n",
       "      <td>27.0</td>\n",
       "      <td>2690.0</td>\n",
       "      <td>398.0</td>\n",
       "      <td>989.0</td>\n",
       "      <td>158.0</td>\n",
       "      <td>432.0</td>\n",
       "      <td>49.0</td>\n",
       "      <td>176.0</td>\n",
       "      <td>495.0</td>\n",
       "      <td>121.0</td>\n",
       "      <td>3.0</td>\n",
       "      <td>1221.0</td>\n",
       "      <td>178.0</td>\n",
       "      <td>73.0</td>\n",
       "    </tr>\n",
       "    <tr>\n",
       "      <th>9549</th>\n",
       "      <td>9549</td>\n",
       "      <td>1990.0</td>\n",
       "      <td>30.0</td>\n",
       "      <td>2005.0</td>\n",
       "      <td>438.0</td>\n",
       "      <td>898.0</td>\n",
       "      <td>31.0</td>\n",
       "      <td>93.0</td>\n",
       "      <td>117.0</td>\n",
       "      <td>188.0</td>\n",
       "      <td>145.0</td>\n",
       "      <td>34.0</td>\n",
       "      <td>19.0</td>\n",
       "      <td>1099.0</td>\n",
       "      <td>198.0</td>\n",
       "      <td>105.0</td>\n",
       "    </tr>\n",
       "    <tr>\n",
       "      <th>9550</th>\n",
       "      <td>9550</td>\n",
       "      <td>1990.0</td>\n",
       "      <td>30.0</td>\n",
       "      <td>2727.0</td>\n",
       "      <td>506.0</td>\n",
       "      <td>1154.0</td>\n",
       "      <td>108.0</td>\n",
       "      <td>289.0</td>\n",
       "      <td>69.0</td>\n",
       "      <td>257.0</td>\n",
       "      <td>453.0</td>\n",
       "      <td>113.0</td>\n",
       "      <td>18.0</td>\n",
       "      <td>1342.0</td>\n",
       "      <td>193.0</td>\n",
       "      <td>79.0</td>\n",
       "    </tr>\n",
       "    <tr>\n",
       "      <th>9551</th>\n",
       "      <td>9551</td>\n",
       "      <td>1990.0</td>\n",
       "      <td>26.0</td>\n",
       "      <td>1893.0</td>\n",
       "      <td>371.0</td>\n",
       "      <td>785.0</td>\n",
       "      <td>10.0</td>\n",
       "      <td>49.0</td>\n",
       "      <td>151.0</td>\n",
       "      <td>223.0</td>\n",
       "      <td>142.0</td>\n",
       "      <td>60.0</td>\n",
       "      <td>39.0</td>\n",
       "      <td>860.0</td>\n",
       "      <td>203.0</td>\n",
       "      <td>98.0</td>\n",
       "    </tr>\n",
       "  </tbody>\n",
       "</table>\n",
       "</div>"
      ],
      "text/plain": [
       "        id    year   age      mp     fg     fga     3p    3pa    orb    drb  \\\n",
       "9547  9547  1990.0  27.0  1691.0  138.0   285.0    3.0    4.0  154.0  277.0   \n",
       "9548  9548  1990.0  27.0  2690.0  398.0   989.0  158.0  432.0   49.0  176.0   \n",
       "9549  9549  1990.0  30.0  2005.0  438.0   898.0   31.0   93.0  117.0  188.0   \n",
       "9550  9550  1990.0  30.0  2727.0  506.0  1154.0  108.0  289.0   69.0  257.0   \n",
       "9551  9551  1990.0  26.0  1893.0  371.0   785.0   10.0   49.0  151.0  223.0   \n",
       "\n",
       "        ast    stl   blk     pts  height  weight  \n",
       "9547   67.0   36.0  25.0   362.0   211.0    99.0  \n",
       "9548  495.0  121.0   3.0  1221.0   178.0    73.0  \n",
       "9549  145.0   34.0  19.0  1099.0   198.0   105.0  \n",
       "9550  453.0  113.0  18.0  1342.0   193.0    79.0  \n",
       "9551  142.0   60.0  39.0   860.0   203.0    98.0  "
      ]
     },
     "execution_count": 14,
     "metadata": {},
     "output_type": "execute_result"
    }
   ],
   "source": [
    "# To avoid refactoring and still be able to access names more easily...\n",
    "stats_with_names = trimmed_stats.copy()\n",
    "\n",
    "player_names = trimmed_stats[['id', 'name']]\n",
    "trimmed_stats.drop(axis=1, labels=['name'], inplace=True)\n",
    "trimmed_stats.head()"
   ]
  },
  {
   "cell_type": "markdown",
   "metadata": {},
   "source": [
    "### 9. Periodic Conversion\n",
    "\n",
    "In order to perform Fourier analysis and interpolation on our data, we will make it periodic; we will take the average of each attribute for each year and observe how the attributes change on average as a function of time.\n",
    "\n",
    "We will also drop the `id` attribute, as the meaning of its average is trivial."
   ]
  },
  {
   "cell_type": "code",
   "execution_count": 15,
   "metadata": {
    "collapsed": true
   },
   "outputs": [],
   "source": [
    "periodic_stats = trimmed_stats.groupby(\"year\").mean().reset_index()\n",
    "periodic_stats = periodic_stats.drop(labels=\"id\", axis=1)"
   ]
  },
  {
   "cell_type": "markdown",
   "metadata": {},
   "source": [
    "## Analysis\n",
    "\n",
    "As a reminder, the seven forms of analysis we will perform are:\n",
    "\n",
    "1. Observational Statistics\n",
    "2. Visualization\n",
    "3. Linear System of Equations\n",
    "4. Interpolation\n",
    "5. Least Squares\n",
    "6. Fourier Analysis\n",
    "7. Principal Components"
   ]
  },
  {
   "cell_type": "markdown",
   "metadata": {},
   "source": [
    "### 1. Observational Statistics\n",
    "\n",
    "\n",
    "Here we will find out some interesting information about our players\n",
    "#### Height\n"
   ]
  },
  {
   "cell_type": "code",
   "execution_count": 16,
   "metadata": {
    "scrolled": false
   },
   "outputs": [
    {
     "name": "stdout",
     "output_type": "stream",
     "text": [
      "These are the tallest players since 1990:\n",
      "               name  height\n",
      "0        Manute Bol   231.0\n",
      "1  Gheorghe Muresan   231.0\n",
      "\n",
      "These are the shortest players since 1990:\n",
      "            name  height\n",
      "0  Muggsy Bogues   160.0\n",
      "\n",
      "The average height of nba players since 1990 is:  200.2841833697162  cm\n"
     ]
    }
   ],
   "source": [
    "max_height_ids = trimmed_stats[trimmed_stats.height == trimmed_stats.height.max()][\"id\"]\n",
    "names = player_names[player_names.id.isin(max_height_ids)]\n",
    "names = names.drop_duplicates(keep='first', subset='name')\n",
    "names = trimmed_stats.merge(names, on='id')[['name', 'height']]\n",
    "print(\"These are the tallest players since 1990:\")\n",
    "print(names)\n",
    "print()\n",
    "\n",
    "min_height_ids = trimmed_stats[trimmed_stats.height == trimmed_stats.height.min()][\"id\"]\n",
    "names = player_names[player_names.id.isin(min_height_ids)]\n",
    "names = names.drop_duplicates(keep='first', subset='name')\n",
    "names = trimmed_stats.merge(names, on='id')[['name', 'height']]\n",
    "print(\"These are the shortest players since 1990:\")\n",
    "print(names)\n",
    "print()\n",
    "\n",
    "print(\"The average height of nba players since 1990 is: \", trimmed_stats['height'].mean(), \" cm\" )"
   ]
  },
  {
   "cell_type": "markdown",
   "metadata": {},
   "source": [
    "#### Age"
   ]
  },
  {
   "cell_type": "code",
   "execution_count": 17,
   "metadata": {},
   "outputs": [
    {
     "name": "stdout",
     "output_type": "stream",
     "text": [
      "These are the oldest players since 1990:\n",
      "           name   age\n",
      "0  Kevin Willis  44.0\n",
      "\n",
      "These are the youngest players since 1990:\n",
      "                name   age\n",
      "0        Kobe Bryant  18.0\n",
      "1    Jermaine O'Neal  18.0\n",
      "2      Tracy McGrady  18.0\n",
      "3      Al Harrington  18.0\n",
      "4       Bruno Sundov  18.0\n",
      "5       Maciej Lampe  18.0\n",
      "6      Darko Milicic  18.0\n",
      "7    Andris Biedrins  18.0\n",
      "8       Andrew Bynum  18.0\n",
      "9       Amir Johnson  18.0\n",
      "10  Yaroslav Korolev  18.0\n",
      "11        C.J. Miles  18.0\n",
      "\n",
      "The average age of nba players since 1990 is:  26.980419395382683  years old\n"
     ]
    }
   ],
   "source": [
    "max_age_ids = trimmed_stats[trimmed_stats.age == trimmed_stats.age.max()][\"id\"]\n",
    "names = player_names[player_names.id.isin(max_age_ids)]\n",
    "names = names.drop_duplicates(keep='first', subset='name')\n",
    "names = trimmed_stats.merge(names, on='id')[['name', 'age']]\n",
    "print(\"These are the oldest players since 1990:\")\n",
    "print(names)\n",
    "print()\n",
    "\n",
    "min_age_ids = trimmed_stats[trimmed_stats.age == trimmed_stats.age.min()][\"id\"]\n",
    "names = player_names[player_names.id.isin(min_age_ids)]\n",
    "names = names.drop_duplicates(keep='first', subset='name')\n",
    "names = trimmed_stats.merge(names, on='id')[['name', 'age']]\n",
    "print(\"These are the youngest players since 1990:\")\n",
    "print(names)\n",
    "print()\n",
    "\n",
    "print(\"The average age of nba players since 1990 is: \", trimmed_stats['age'].mean(), \" years old\" )"
   ]
  },
  {
   "cell_type": "markdown",
   "metadata": {},
   "source": [
    "#### Points"
   ]
  },
  {
   "cell_type": "code",
   "execution_count": 18,
   "metadata": {},
   "outputs": [
    {
     "name": "stdout",
     "output_type": "stream",
     "text": [
      "The most points scored in an NBA season since 1990 was: \n",
      "          name     pts\n",
      "0  Kobe Bryant  2832.0\n",
      "\n",
      "There were  186.0  players who scored 0 points in a season since 1990.\n",
      "\n",
      "The average number of points in a season since 1990 is:  463.05867566316067  points\n"
     ]
    }
   ],
   "source": [
    "max_points_ids = trimmed_stats[trimmed_stats.pts == trimmed_stats.pts.max()][\"id\"]\n",
    "names = player_names[player_names.id.isin(max_points_ids)]\n",
    "names = names.drop_duplicates(keep='first', subset='name')\n",
    "names = trimmed_stats.merge(names, on='id')[['name', 'pts']]\n",
    "print(\"The most points scored in an NBA season since 1990 was: \")\n",
    "print(names)\n",
    "print()\n",
    "\n",
    "min_points_ids = trimmed_stats[trimmed_stats.pts == trimmed_stats.pts.min()][\"id\"]\n",
    "names = player_names[player_names.id.isin(min_points_ids)]\n",
    "names = names.drop_duplicates(keep='first', subset='name')\n",
    "names = trimmed_stats.merge(names, on='id')[['name', 'pts']]\n",
    "print(\"There were \", names.size / 2, \" players who scored 0 points in a season since 1990.\")\n",
    "print()\n",
    "\n",
    "print(\"The average number of points in a season since 1990 is: \", trimmed_stats['pts'].mean(), \" points\" )"
   ]
  },
  {
   "cell_type": "markdown",
   "metadata": {},
   "source": [
    "#### Blocks"
   ]
  },
  {
   "cell_type": "code",
   "execution_count": 19,
   "metadata": {},
   "outputs": [
    {
     "name": "stdout",
     "output_type": "stream",
     "text": [
      "The player with the most blocks since 1990 is:\n",
      "               name    blk\n",
      "0  Hakeem Olajuwon*  376.0\n",
      "\n",
      "There were  1014.0  players who recorded 0 blocks in a season since 1990.\n",
      "\n",
      "The average height of nba players since 1990 is:  23.109677846133494  blocks\n"
     ]
    }
   ],
   "source": [
    "max_block_ids = trimmed_stats[trimmed_stats.blk == trimmed_stats.blk.max()][\"id\"]\n",
    "names = player_names[player_names.id.isin(max_block_ids)]\n",
    "names = names.drop_duplicates(keep='first', subset='name')\n",
    "names = trimmed_stats.merge(names, on='id')[['name', 'blk']]\n",
    "print(\"The player with the most blocks since 1990 is:\")\n",
    "print(names)\n",
    "print()\n",
    "\n",
    "min_block_ids = trimmed_stats[trimmed_stats.blk == trimmed_stats.blk.min()][\"id\"]\n",
    "names = player_names[player_names.id.isin(min_block_ids)]\n",
    "names = names.drop_duplicates(keep='first', subset='name')\n",
    "names = trimmed_stats.merge(names, on='id')[['name', 'blk']]\n",
    "print(\"There were \", names.size / 2, \" players who recorded 0 blocks in a season since 1990.\")\n",
    "\n",
    "\n",
    "print()\n",
    "\n",
    "print(\"The average number of blocks for nba players since 1990 is: \", trimmed_stats['blk'].mean(), \" blocks\" )"
   ]
  },
  {
   "cell_type": "markdown",
   "metadata": {},
   "source": [
    "### 2. Visualization\n",
    "\n",
    "Here we will display some pleasant graphs.\n",
    "\n",
    "#### Height distribution"
   ]
  },
  {
   "cell_type": "code",
   "execution_count": 20,
   "metadata": {},
   "outputs": [
    {
     "data": {
      "text/plain": [
       "[]"
      ]
     },
     "execution_count": 20,
     "metadata": {},
     "output_type": "execute_result"
    },
    {
     "data": {
      "image/png": "[encoded data removed]",
      "text/plain": [
       "<matplotlib.figure.Figure at 0x7fa37b45cf60>"
      ]
     },
     "metadata": {},
     "output_type": "display_data"
    }
   ],
   "source": [
    "plt.hist(trimmed_stats[\"height\"], color=\"indigo\")\n",
    "plt.title(\"NBA Player Height\")\n",
    "plt.xlabel(\"Height (cm)\")\n",
    "plt.ylabel(\"count\")\n",
    "plt.axvline(trimmed_stats['height'].mean(), color='r', linestyle='dashed')\n",
    "plt.plot()"
   ]
  },
  {
   "cell_type": "markdown",
   "metadata": {},
   "source": [
    "The majority of players fell into a height range of 190 cm to 210 cm (6'2\" to 6'10\"), and the average player is roughly 200 cm tall. \n",
    "\n",
    "#### Age distribution"
   ]
  },
  {
   "cell_type": "code",
   "execution_count": 21,
   "metadata": {},
   "outputs": [
    {
     "data": {
      "text/plain": [
       "[]"
      ]
     },
     "execution_count": 21,
     "metadata": {},
     "output_type": "execute_result"
    },
    {
     "data": {
      "image/png": "[encoded data removed]",
      "text/plain": [
       "<matplotlib.figure.Figure at 0x7fa37ade3cc0>"
      ]
     },
     "metadata": {},
     "output_type": "display_data"
    }
   ],
   "source": [
    "plt.hist(trimmed_stats[\"age\"], color=\"aqua\")\n",
    "plt.title(\"NBA Player Age\")\n",
    "plt.xlabel(\"age\")\n",
    "plt.ylabel(\"count\")\n",
    "plt.axvline(trimmed_stats['age'].mean(), color='r', linestyle='dashed')\n",
    "plt.plot()"
   ]
  },
  {
   "cell_type": "markdown",
   "metadata": {},
   "source": [
    "Most players fell between an age range of 22 to 30 years old, and the average player is 27 years old. This speaks to the longevity of careers in the NBA; most people do not end up playing for more than five to eight years. \n",
    "\n",
    "#### Weight distribution"
   ]
  },
  {
   "cell_type": "code",
   "execution_count": 22,
   "metadata": {},
   "outputs": [
    {
     "data": {
      "text/plain": [
       "[]"
      ]
     },
     "execution_count": 22,
     "metadata": {},
     "output_type": "execute_result"
    },
    {
     "data": {
      "image/png": "[encoded data removed]",
      "text/plain": [
       "<matplotlib.figure.Figure at 0x7fa37a238400>"
      ]
     },
     "metadata": {},
     "output_type": "display_data"
    }
   ],
   "source": [
    "plt.hist(trimmed_stats[\"weight\"], color=\"purple\")\n",
    "plt.title(\"NBA Player Weight\")\n",
    "plt.xlabel(\"Weight (kg)\")\n",
    "plt.ylabel(\"count\")\n",
    "plt.axvline(trimmed_stats['weight'].mean(), color='r', linestyle='dashed')\n",
    "plt.plot()"
   ]
  },
  {
   "cell_type": "markdown",
   "metadata": {},
   "source": [
    "Most of our players weigh between 80 and 120 kg (175 to 265 lbs) and the average weight was about 95 kg. \n",
    "\n",
    "#### Blocks"
   ]
  },
  {
   "cell_type": "code",
   "execution_count": 23,
   "metadata": {},
   "outputs": [
    {
     "data": {
      "text/plain": [
       "[]"
      ]
     },
     "execution_count": 23,
     "metadata": {},
     "output_type": "execute_result"
    },
    {
     "data": {
      "image/png": "[encoded data removed]",
      "text/plain": [
       "<matplotlib.figure.Figure at 0x7fa37a17cb38>"
      ]
     },
     "metadata": {},
     "output_type": "display_data"
    }
   ],
   "source": [
    "plt.hist(trimmed_stats[\"blk\"], color=\"green\")\n",
    "plt.title(\"NBA Player Blocks\")\n",
    "plt.xlabel(\"Blcoks \")\n",
    "plt.ylabel(\"count\")\n",
    "plt.axvline(trimmed_stats['blk'].mean(), color='r', linestyle='dashed')\n",
    "plt.plot()"
   ]
  },
  {
   "cell_type": "markdown",
   "metadata": {},
   "source": [
    "Almost all of the players had between 0 and 25 blocks on average per season, and the average player had 23 blocks per season. I found these numbers to be surprising; the average player gets roughly .28 blocks per game, or a block every four games. \n",
    "\n",
    "#### Three Pointers Made vs Three Pointers Attempted\n",
    "\n"
   ]
  },
  {
   "cell_type": "code",
   "execution_count": 24,
   "metadata": {},
   "outputs": [
    {
     "name": "stdout",
     "output_type": "stream",
     "text": [
      "Average three pointers made is:  26.459615002976783\n",
      "Average three pointers attempted is:  74.96328636634253\n"
     ]
    },
    {
     "data": {
      "image/png": "[encoded data removed]",
      "text/plain": [
       "<matplotlib.figure.Figure at 0x7fa3797d70f0>"
      ]
     },
     "metadata": {},
     "output_type": "display_data"
    }
   ],
   "source": [
    "plt.plot(trimmed_stats[\"3p\"], trimmed_stats[\"3pa\"], \"o\", color=\"pink\")\n",
    "plt.title(\"Three Pointers Made vs Three Pointers Attempted\")\n",
    "plt.xlabel(\"Three Point Made\")\n",
    "plt.ylabel(\"Three Point Attempted\")\n",
    "plt.show\n",
    "print(\"Average three pointers made is: \", trimmed_stats[\"3p\"].mean())\n",
    "print(\"Average three pointers attempted is: \", trimmed_stats[\"3pa\"].mean())"
   ]
  },
  {
   "cell_type": "markdown",
   "metadata": {},
   "source": [
    "This is an good example of why we decided to trim the data to more recent years; these results would be extremely diffrent since the three point line was not introduced until the 79-80 season. \n",
    "\n",
    "#### Height vs Blocks"
   ]
  },
  {
   "cell_type": "code",
   "execution_count": 25,
   "metadata": {},
   "outputs": [
    {
     "data": {
      "image/png": "[encoded data removed]",
      "text/plain": [
       "<matplotlib.figure.Figure at 0x7fa37b45c518>"
      ]
     },
     "metadata": {},
     "output_type": "display_data"
    }
   ],
   "source": [
    "plt.plot(trimmed_stats.height, trimmed_stats.blk, \"o\", color='r')\n",
    "plt.title(\"Height vs Blocks\")\n",
    "plt.xlabel(\"Height\")\n",
    "plt.ylabel(\"Blocks\")\n",
    "plt.show()"
   ]
  },
  {
   "cell_type": "markdown",
   "metadata": {},
   "source": [
    "The graph shows that there might be a trend between a players height, and the rate at which they block shots, which makes a lot of sense. "
   ]
  },
  {
   "cell_type": "markdown",
   "metadata": {},
   "source": [
    "### 3. Linear System of Equations\n",
    "\n",
    "For analyzing our data as a linear system of equations, we choose to look at player age as our dependent variable because we are interested in its relationship to the other attributes more than another's. Specifically, we will look at our data in the form:\n",
    "\n",
    "`a x = b`\n",
    "\n",
    "- `a` is the coefficient matrix made up of all but one attribute.\n",
    "- `x` is the solution vector.\n",
    "- `b` is the dependent value vector.\n",
    "\n",
    "The coefficient matrix `a` of our data is not square, so NumPy's linear system of equations solver will not work. Instead, we can use the least squares approach to solve for the vector `x`."
   ]
  },
  {
   "cell_type": "code",
   "execution_count": 42,
   "metadata": {
    "scrolled": true
   },
   "outputs": [
    {
     "data": {
      "text/plain": [
       "array([-0.00010168,  0.01069198,  0.00157695,  0.00518049, -0.0042417 ,\n",
       "        0.04126586, -0.0152424 , -0.01871125,  0.01255473,  0.00222846,\n",
       "       -0.01498445, -0.01370259, -0.00202133,  0.05977078, -0.04953434])"
      ]
     },
     "execution_count": 42,
     "metadata": {},
     "output_type": "execute_result"
    }
   ],
   "source": [
    "a = trimmed_stats.drop(labels=\"age\", axis=1)\n",
    "b = trimmed_stats.age\n",
    "x = np.linalg.lstsq(a, b)\n",
    "x[0]"
   ]
  },
  {
   "cell_type": "markdown",
   "metadata": {},
   "source": [
    "From the solution vector, we can infer that age has a small effect on a player's stats. The coefficients are in the range ["
   ]
  },
  {
   "cell_type": "markdown",
   "metadata": {},
   "source": [
    "### 4. Interpolation"
   ]
  },
  {
   "cell_type": "code",
   "execution_count": null,
   "metadata": {
    "collapsed": true
   },
   "outputs": [],
   "source": []
  },
  {
   "cell_type": "markdown",
   "metadata": {},
   "source": [
    "### 5. Least Squares\n",
    "\n",
    "We will be considering four pairs of statistics for finding fits in the least-squares sense:\n",
    "\n",
    "Independent | Dependent\n",
    ":---: | :---:\n",
    "Age | Points\n",
    "Age | Minutes Played\n",
    "Height | Total Rebounds\n",
    "Weight | Steals\n",
    "Height | 3-Point Percentage\n",
    "\n",
    "#### Age vs. Points"
   ]
  },
  {
   "cell_type": "code",
   "execution_count": 26,
   "metadata": {
    "scrolled": true
   },
   "outputs": [
    {
     "name": "stdout",
     "output_type": "stream",
     "text": [
      "Slope: -0.93682317529\n"
     ]
    },
    {
     "data": {
      "image/png": "[encoded data removed]",
      "text/plain": [
       "<matplotlib.figure.Figure at 0x7fa3796f2fd0>"
      ]
     },
     "metadata": {},
     "output_type": "display_data"
    }
   ],
   "source": [
    "x = trimmed_stats.age\n",
    "y = trimmed_stats.pts\n",
    "\n",
    "A = np.vstack([x, np.ones(len(x))]).T\n",
    "m, c = np.linalg.lstsq(A, y)[0]\n",
    "print(\"Slope:\", m)\n",
    "\n",
    "plt.plot(x, y, 'o', label=\"data\")\n",
    "plt.plot(x, m * x + c, 'r', label=\"least-squares fit\")\n",
    "plt.title(\"Age vs. Points\")\n",
    "plt.xlabel(\"Age\")\n",
    "plt.ylabel(\"Points\")\n",
    "plt.legend()\n",
    "plt.show()"
   ]
  },
  {
   "cell_type": "markdown",
   "metadata": {},
   "source": [
    "From the slightly negative slope, we can see that age only has a slight, negative correlation with points. This is interesting, and may be explained by younger players playing less minutes as they start out in the league.\n",
    "\n",
    "#### Age vs. Minutes"
   ]
  },
  {
   "cell_type": "code",
   "execution_count": 27,
   "metadata": {},
   "outputs": [
    {
     "name": "stdout",
     "output_type": "stream",
     "text": [
      "Slope: 6.80377792251\n"
     ]
    },
    {
     "data": {
      "image/png": "[encoded data removed]",
      "text/plain": [
       "<matplotlib.figure.Figure at 0x7fa378e51ba8>"
      ]
     },
     "metadata": {},
     "output_type": "display_data"
    }
   ],
   "source": [
    "x = trimmed_stats.age\n",
    "y = trimmed_stats.mp\n",
    "\n",
    "A = np.vstack([x, np.ones(len(x))]).T\n",
    "m, c = np.linalg.lstsq(A, y)[0]\n",
    "print(\"Slope:\", m)\n",
    "\n",
    "plt.plot(x, y, '.', label=\"data\", color=\"#ff4400\")\n",
    "plt.plot(x, m * x + c, 'r', label=\"least-squares fit\", color=\"#0000ff\")\n",
    "plt.title(\"Age vs. Minutes Played\")\n",
    "plt.xlabel(\"Age\")\n",
    "plt.ylabel(\"Minutes Played\")\n",
    "plt.legend()\n",
    "plt.show()"
   ]
  },
  {
   "cell_type": "markdown",
   "metadata": {},
   "source": [
    "There is a slight positive trend present; as players age in the league, they are granted more play time. This helps account for the lack of a difference in points that one might expect between older and younger players.\n",
    "\n",
    "#### Height vs. Total Rebounds"
   ]
  },
  {
   "cell_type": "code",
   "execution_count": 28,
   "metadata": {},
   "outputs": [
    {
     "name": "stdout",
     "output_type": "stream",
     "text": [
      "Slope: 5.78175560023\n"
     ]
    },
    {
     "data": {
      "image/png": "[encoded data removed]",
      "text/plain": [
       "<matplotlib.figure.Figure at 0x7fa371d27198>"
      ]
     },
     "metadata": {},
     "output_type": "display_data"
    }
   ],
   "source": [
    "x = trimmed_stats.height\n",
    "y = trimmed_stats.orb + trimmed_stats.drb\n",
    "\n",
    "A = np.vstack([x, np.ones(len(x))]).T\n",
    "m, c = np.linalg.lstsq(A, y)[0]\n",
    "print(\"Slope:\", m)\n",
    "\n",
    "plt.plot(x, y, 'o', label=\"data\", color=\"#0a00ff\")\n",
    "plt.plot(x, m * x + c, 'r', label=\"least-squares fit\", color=\"#00ff00\")\n",
    "plt.title(\"Height vs. Total Rebounds\")\n",
    "plt.xlabel(\" Height\")\n",
    "plt.ylabel(\"Total Rebounds\")\n",
    "plt.legend()\n",
    "plt.show()"
   ]
  },
  {
   "cell_type": "markdown",
   "metadata": {},
   "source": [
    "We can see that there is a positive correlation between height and total rebounds, as should be expected. It is interesting to note that this association is actually weaker than the one between age and minutes played.\n",
    "\n",
    "#### Weight vs. Steals"
   ]
  },
  {
   "cell_type": "code",
   "execution_count": 29,
   "metadata": {},
   "outputs": [
    {
     "name": "stdout",
     "output_type": "stream",
     "text": [
      "Slope: -0.50274469621\n"
     ]
    },
    {
     "data": {
      "image/png": "[encoded data removed]",
      "text/plain": [
       "<matplotlib.figure.Figure at 0x7fa3796a52b0>"
      ]
     },
     "metadata": {},
     "output_type": "display_data"
    }
   ],
   "source": [
    "x = trimmed_stats.weight\n",
    "y = trimmed_stats.stl\n",
    "\n",
    "A = np.vstack([x, np.ones(len(x))]).T\n",
    "m, c = np.linalg.lstsq(A, y)[0]\n",
    "print(\"Slope:\", m)\n",
    "\n",
    "plt.plot(x, y, 'o', label=\"data\", color=\"purple\")\n",
    "plt.plot(x, m * x + c, 'r', label=\"least-squares fit\", color=\"#aaff00\")\n",
    "plt.title(\"Weight vs. Steals\")\n",
    "plt.xlabel(\"Weight\")\n",
    "plt.ylabel(\"Steals\")\n",
    "plt.legend()\n",
    "plt.show()"
   ]
  },
  {
   "cell_type": "markdown",
   "metadata": {},
   "source": [
    "As one would expect, there is a negative trend; lighter players can move around and steal the ball more easily."
   ]
  },
  {
   "cell_type": "markdown",
   "metadata": {},
   "source": [
    "#### Height vs. 3-Point Percentage\n",
    "\n",
    "For calculating the 3-point percentage, we will trim off players who attempted less than 10 3-point shots to reduce extrema."
   ]
  },
  {
   "cell_type": "code",
   "execution_count": 30,
   "metadata": {},
   "outputs": [
    {
     "name": "stdout",
     "output_type": "stream",
     "text": [
      "Slope: -0.000518530356493\n"
     ]
    },
    {
     "data": {
      "image/png": "[encoded data removed]",
      "text/plain": [
       "<matplotlib.figure.Figure at 0x7fa3797f6c50>"
      ]
     },
     "metadata": {},
     "output_type": "display_data"
    }
   ],
   "source": [
    "good_3pa_players = trimmed_stats[trimmed_stats[\"3pa\"] > 10]\n",
    "x = good_3pa_players.height\n",
    "y = good_3pa_players[\"3p\"] / good_3pa_players[\"3pa\"]\n",
    "\n",
    "A = np.vstack([x, np.ones(len(x))]).T\n",
    "m, c = np.linalg.lstsq(A, y)[0]\n",
    "print(\"Slope:\", m)\n",
    "\n",
    "plt.plot(x, y, 'o', label=\"data\", color=\"purple\")\n",
    "plt.plot(x, m * x + c, 'r', label=\"least-squares fit\", color=\"#aaff00\")\n",
    "plt.title(\"Height vs. 3-Point Percentage\")\n",
    "plt.xlabel(\"Height\")\n",
    "plt.ylabel(\"3-Point Percentage\")\n",
    "plt.ylim([0, 1])\n",
    "plt.legend()\n",
    "plt.show()"
   ]
  },
  {
   "cell_type": "markdown",
   "metadata": {},
   "source": [
    "Surprisingly, there is virtually no trend between a player's height and his 3-point percentage."
   ]
  },
  {
   "cell_type": "markdown",
   "metadata": {},
   "source": [
    "### 6. Fourier Analysis\n",
    "\n",
    "We will be performing Fourier analysis using the Fast Fourier Transform (FFT).\n",
    "\n",
    "The Fourier coefficients themselves are difficult to interpret. Instead, we \n",
    "will use the squares of their complex magnitude, the data's power, to construct a periodogram. From there, we can identify important frequencies."
   ]
  },
  {
   "cell_type": "code",
   "execution_count": 137,
   "metadata": {},
   "outputs": [],
   "source": [
    "def make_periodogram(attr, color, title_attr):\n",
    "    \"\"\"Constructs a periodogram for a given attribute of trimmed_data.\"\"\"\n",
    "    \n",
    "    # Perform FFT.\n",
    "    Y = np.fft.fft(trimmed_stats[attr])\n",
    "\n",
    "    # Calculate power and frequency.\n",
    "    n = len(Y)\n",
    "    power = np.abs(Y[1:np.floor(n / 2).astype(int)])\n",
    "    nyquist = 1 / 2;\n",
    "    freq = np.arange(1, np.floor(n / 2).astype(int)) / (n / 2) * nyquist;\n",
    "\n",
    "    # Plot the periodogram.\n",
    "    plt.plot(freq, power, color=color)\n",
    "    plt.title(\"Periodogram of Average Player \" + title_attr)\n",
    "    plt.xlabel(\"Frequency\")\n",
    "    plt.ylabel(\"Power\")\n",
    "\n",
    "    from scipy.signal import argrelextrema\n",
    "    rel_extrema = argrelextrema(power, np.greater, order=np.floor(n/25).astype(int))\n",
    "    for i in rel_extrema:\n",
    "        plt.plot(freq[i], power[i], 'o', color=\"orange\")\n",
    "\n",
    "    plt.show()"
   ]
  },
  {
   "cell_type": "code",
   "execution_count": 138,
   "metadata": {},
   "outputs": [
    {
     "data": {
      "image/png": "[encoded data removed]",
      "text/plain": [
       "<matplotlib.figure.Figure at 0x7fb43b33f3c8>"
      ]
     },
     "metadata": {},
     "output_type": "display_data"
    }
   ],
   "source": [
    "make_periodogram(\"age\", \"green\", \"Age\")"
   ]
  },
  {
   "cell_type": "code",
   "execution_count": 142,
   "metadata": {},
   "outputs": [
    {
     "data": {
      "image/png": "[encoded data removed]",
      "text/plain": [
       "<matplotlib.figure.Figure at 0x7fb4706f99e8>"
      ]
     },
     "metadata": {},
     "output_type": "display_data"
    }
   ],
   "source": [
    "make_periodogram(\"3pa\", \"blue\", \"3-Pointers Attempted\")"
   ]
  },
  {
   "cell_type": "code",
   "execution_count": 140,
   "metadata": {},
   "outputs": [
    {
     "data": {
      "image/png": "[encoded data removed]",
      "text/plain": [
       "<matplotlib.figure.Figure at 0x7fb4708c66a0>"
      ]
     },
     "metadata": {},
     "output_type": "display_data"
    }
   ],
   "source": [
    "make_periodogram(\"height\", \"purple\", \"Height\")"
   ]
  },
  {
   "cell_type": "markdown",
   "metadata": {},
   "source": [
    "As for what these periodograms communicate, we are not sure. There is a suspicious look to the Average Height and Average Age graphs, but we are not sure how to translate the information."
   ]
  },
  {
   "cell_type": "markdown",
   "metadata": {},
   "source": [
    "### 7. Principal Components"
   ]
  },
  {
   "cell_type": "code",
   "execution_count": 34,
   "metadata": {},
   "outputs": [
    {
     "data": {
      "text/plain": [
       "array([  9.37546103e-01,   5.94631092e-02,   1.67893395e-03,\n",
       "         7.26688615e-04,   2.99029815e-04])"
      ]
     },
     "execution_count": 34,
     "metadata": {},
     "output_type": "execute_result"
    },
    {
     "data": {
      "image/png": "[encoded data removed]",
      "text/plain": [
       "<matplotlib.figure.Figure at 0x7fa33a5776d8>"
      ]
     },
     "metadata": {},
     "output_type": "display_data"
    }
   ],
   "source": [
    "from sklearn.decomposition import PCA\n",
    "\n",
    "X = trimmed_stats\n",
    "pca = PCA(n_components=5)\n",
    "pca.fit(X)\n",
    "X = pca.transform(X)\n",
    "plt.plot(X)\n",
    "pca.explained_variance_ratio_"
   ]
  },
  {
   "cell_type": "markdown",
   "metadata": {},
   "source": [
    "After performing Principal Component Analysis (PCA) using Singular Value Decomposition (SVD), we can see that the first principal component explains  93.8% of the variance in our data, the second explains 5.9%, and the third explains only 0.2%. The explanatory power of the subsequent components is negligible.\n",
    "\n",
    "It will be interesting to see how we can use these componen"
   ]
  },
  {
   "cell_type": "markdown",
   "metadata": {},
   "source": [
    "## Reflection"
   ]
  }
 ],
 "metadata": {
  "kernelspec": {
   "display_name": "Python 3 (ipykernel)",
   "language": "python",
   "name": "python3"
  },
  "language_info": {
   "codemirror_mode": {
    "name": "ipython",
    "version": 3
   },
   "file_extension": ".py",
   "mimetype": "text/x-python",
   "name": "python",
   "nbconvert_exporter": "python",
   "pygments_lexer": "ipython3",
   "version": "3.10.1"
  }
 },
 "nbformat": 4,
 "nbformat_minor": 2
}
